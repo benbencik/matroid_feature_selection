{
 "cells": [
  {
   "cell_type": "code",
   "execution_count": 158,
   "metadata": {},
   "outputs": [],
   "source": [
    "import numpy\n",
    "import pandas"
   ]
  },
  {
   "cell_type": "code",
   "execution_count": 159,
   "metadata": {},
   "outputs": [
    {
     "data": {
      "text/plain": [
       "1460"
      ]
     },
     "execution_count": 159,
     "metadata": {},
     "output_type": "execute_result"
    }
   ],
   "source": [
    "df_train = pandas.read_csv('housing_dataset/train.csv')\n",
    "df_test = pandas.read_csv('housing_dataset/test.csv')\n",
    "\n",
    "len(df_train)"
   ]
  },
  {
   "cell_type": "code",
   "execution_count": 160,
   "metadata": {},
   "outputs": [
    {
     "name": "stdout",
     "output_type": "stream",
     "text": [
      "LotFrontage 259\n",
      "Alley 1369\n",
      "MasVnrType 8\n",
      "MasVnrArea 8\n",
      "BsmtQual 37\n",
      "BsmtCond 37\n",
      "BsmtExposure 38\n",
      "BsmtFinType1 37\n",
      "BsmtFinType2 38\n",
      "Electrical 1\n",
      "FireplaceQu 690\n",
      "GarageType 81\n",
      "GarageYrBlt 81\n",
      "GarageFinish 81\n",
      "GarageQual 81\n",
      "GarageCond 81\n",
      "PoolQC 1453\n",
      "Fence 1179\n",
      "MiscFeature 1406\n"
     ]
    }
   ],
   "source": [
    "# columns with missing values\n",
    "missing_vals = df_train.columns[df_train.isnull().any()]\n",
    "\n",
    "# number of missing values per column\n",
    "nof_missing = {}\n",
    "for col in missing_vals:\n",
    "    nof_missing[col] = df_train[col].isnull().sum()\n",
    "    print(col, df_train[col].isnull().sum())"
   ]
  },
  {
   "cell_type": "code",
   "execution_count": 168,
   "metadata": {},
   "outputs": [
    {
     "data": {
      "text/plain": [
       "75"
      ]
     },
     "execution_count": 168,
     "metadata": {},
     "output_type": "execute_result"
    }
   ],
   "source": [
    "for col in missing_vals:\n",
    "    if nof_missing[col] > len(df_train) / 10:\n",
    "        df_train = df_train.drop(col, axis=1)\n",
    "        df_test = df_test.drop(col, axis=1)\n",
    "    else:\n",
    "        most_common = df_train[col].value_counts().index[0]\n",
    "        df_train[col] = df_train[col].fillna(most_common)\n",
    "len(df_train.columns)"
   ]
  },
  {
   "cell_type": "code",
   "execution_count": null,
   "metadata": {},
   "outputs": [],
   "source": [
    "# calculate entropy of a feature\n",
    "def entropy(x):\n",
    "    probas = x.value_counts(normalize=True)\n",
    "    return -numpy.sum(numpy.log2(probas) * probas)"
   ]
  }
 ],
 "metadata": {
  "kernelspec": {
   "display_name": "Python 3",
   "language": "python",
   "name": "python3"
  },
  "language_info": {
   "codemirror_mode": {
    "name": "ipython",
    "version": 3
   },
   "file_extension": ".py",
   "mimetype": "text/x-python",
   "name": "python",
   "nbconvert_exporter": "python",
   "pygments_lexer": "ipython3",
   "version": "3.10.10"
  },
  "orig_nbformat": 4
 },
 "nbformat": 4,
 "nbformat_minor": 2
}
